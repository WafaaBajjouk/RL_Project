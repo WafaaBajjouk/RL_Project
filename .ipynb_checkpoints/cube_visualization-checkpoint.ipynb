{
 "cells": [
  {
   "cell_type": "markdown",
   "id": "87a5b168-3ad0-4caf-b45d-729f136d655b",
   "metadata": {},
   "source": [
    "# Visualization Setup\n",
    "\n",
    "Previously, I used a this notebook to draw the 2D state of the Rubik's Cube. To streamline the process and make the visualization function reusable across different notebooks, I have transferred the visualization function into a standalone Python script. \n",
    "\n",
    "The script, `cube_visualization.py`, contains the `draw_cube` function, which can be easily imported and used to visualize the cube's state.\n"
   ]
  },
  {
   "cell_type": "code",
   "execution_count": 35,
   "id": "0c0cd88e-374a-4e8d-b7a1-00c7f526b0c5",
   "metadata": {},
   "outputs": [],
   "source": [
    "from cube_visualization import draw_cube"
   ]
  },
  {
   "cell_type": "code",
   "execution_count": 36,
   "id": "dc5133b6-365d-4062-9b2b-a645f81e3bf5",
   "metadata": {},
   "outputs": [
    {
     "data": {
      "image/png": "[encoded data removed]",
      "text/plain": [
       "<Figure size 800x600 with 12 Axes>"
      ]
     },
     "metadata": {},
     "output_type": "display_data"
    }
   ],
   "source": [
    "initial_state = n_move_state(n=6)\n",
    "\n",
    "draw_cube(initial_state)"
   ]
  },
  {
   "cell_type": "code",
   "execution_count": null,
   "id": "2d8b354d-452c-4674-bd44-48cd8c6bf2b0",
   "metadata": {},
   "outputs": [],
   "source": []
  }
 ],
 "metadata": {
  "kernelspec": {
   "display_name": "Python 3 (ipykernel)",
   "language": "python",
   "name": "python3"
  },
  "language_info": {
   "codemirror_mode": {
    "name": "ipython",
    "version": 3
   },
   "file_extension": ".py",
   "mimetype": "text/x-python",
   "name": "python",
   "nbconvert_exporter": "python",
   "pygments_lexer": "ipython3",
   "version": "3.11.7"
  }
 },
 "nbformat": 4,
 "nbformat_minor": 5
}
