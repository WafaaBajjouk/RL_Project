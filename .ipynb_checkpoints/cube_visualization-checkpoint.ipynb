{
 "cells": [
  {
   "cell_type": "code",
   "execution_count": 30,
   "id": "0c0cd88e-374a-4e8d-b7a1-00c7f526b0c5",
   "metadata": {},
   "outputs": [],
   "source": [
    "import matplotlib.pyplot as plt\n",
    "import numpy as np\n",
    "import pickle\n",
    "import sys\n",
    "from pathlib import Path\n",
    "from Rubiks.state import State\n",
    "from Rubiks.utils import n_move_state\n"
   ]
  },
  {
   "cell_type": "code",
   "execution_count": 31,
   "id": "dc5133b6-365d-4062-9b2b-a645f81e3bf5",
   "metadata": {},
   "outputs": [],
   "source": [
    "def draw_cube(state):\n",
    "    fig, ax = plt.subplots(3, 4, figsize=(8, 6))\n",
    "    \n",
    "    for i in range(3):\n",
    "        for j in range(3):\n",
    "            ax[0, 1].add_patch(plt.Rectangle((j, 2-i), 1, 1, facecolor=color_map[state.top()[i][j]], edgecolor='black', linewidth=2))\n",
    "            ax[1, 0].add_patch(plt.Rectangle((j, 2-i), 1, 1, facecolor=color_map[state.left()[i][j]], edgecolor='black', linewidth=2))\n",
    "            ax[1, 1].add_patch(plt.Rectangle((j, 2-i), 1, 1, facecolor=color_map[state.front()[i][j]], edgecolor='black', linewidth=2))\n",
    "            ax[1, 2].add_patch(plt.Rectangle((j, 2-i), 1, 1, facecolor=color_map[state.right()[i][j]], edgecolor='black', linewidth=2))\n",
    "            ax[1, 3].add_patch(plt.Rectangle((j, 2-i), 1, 1, facecolor=color_map[state.back()[i][j]], edgecolor='black', linewidth=2))\n",
    "            ax[2, 1].add_patch(plt.Rectangle((j, 2-i), 1, 1, facecolor=color_map[state.bottom()[i][j]], edgecolor='black', linewidth=2))\n",
    "    \n",
    "    for i in range(3):\n",
    "        for j in range(4):\n",
    "            ax[i, j].set_xlim(0, 3)\n",
    "            ax[i, j].set_ylim(0, 3)\n",
    "            ax[i, j].set_xticks([])\n",
    "            ax[i, j].set_yticks([])\n",
    "            ax[i, j].set_aspect('equal')\n",
    "            if (i, j) not in [(0, 1), (1, 0), (1, 1), (1, 2), (1, 3), (2, 1)]:\n",
    "                ax[i, j].axis('off')\n",
    "    \n",
    "    plt.subplots_adjust(wspace=0, hspace=0)\n",
    "    plt.show()"
   ]
  },
  {
   "cell_type": "code",
   "execution_count": 32,
   "id": "5c0820bc-b79c-4217-b179-2220c62f616c",
   "metadata": {},
   "outputs": [
    {
     "data": {
      "image/png": "[encoded data removed]",
      "text/plain": [
       "<Figure size 800x600 with 12 Axes>"
      ]
     },
     "metadata": {},
     "output_type": "display_data"
    },
    {
     "data": {
      "text/plain": [
       "\"\\nFRONT[['W', 'Y', 'W'], ['Y', 'W', 'Y'], ['Y', 'Y', 'Y']]\\nBACK[['Y', 'W', 'Y'], ['W', 'Y', 'W'], ['W', 'W', 'W']]\\nLEFT[['B', 'B', 'B'], ['G', 'B', 'G'], ['G', 'G', 'G']]\\nRIGHT[['G', 'G', 'G'], ['B', 'G', 'B'], ['B', 'B', 'B']]\\nTOP[['O', 'O', 'R'], ['O', 'R', 'R'], ['O', 'O', 'R']]\\nBOTTOM[['R', 'R', 'O'], ['R', 'O', 'O'], ['R', 'R', 'O']]\""
      ]
     },
     "execution_count": 32,
     "metadata": {},
     "output_type": "execute_result"
    }
   ],
   "source": [
    "initial_state = n_move_state(n=6)\n",
    "draw_cube(initial_state)\n",
    "initial_state.__str__()"
   ]
  },
  {
   "cell_type": "code",
   "execution_count": null,
   "id": "60e045bd-03dc-45a3-beb4-919feedeca58",
   "metadata": {},
   "outputs": [],
   "source": []
  },
  {
   "cell_type": "code",
   "execution_count": null,
   "id": "d2fd432e-138c-4c0e-a425-c2d7b9a53da6",
   "metadata": {},
   "outputs": [],
   "source": []
  },
  {
   "cell_type": "code",
   "execution_count": null,
   "id": "2d8b354d-452c-4674-bd44-48cd8c6bf2b0",
   "metadata": {},
   "outputs": [],
   "source": []
  }
 ],
 "metadata": {
  "kernelspec": {
   "display_name": "Python 3 (ipykernel)",
   "language": "python",
   "name": "python3"
  },
  "language_info": {
   "codemirror_mode": {
    "name": "ipython",
    "version": 3
   },
   "file_extension": ".py",
   "mimetype": "text/x-python",
   "name": "python",
   "nbconvert_exporter": "python",
   "pygments_lexer": "ipython3",
   "version": "3.11.7"
  }
 },
 "nbformat": 4,
 "nbformat_minor": 5
}
