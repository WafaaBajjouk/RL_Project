{
 "cells": [
  {
   "cell_type": "code",
   "execution_count": 7,
   "id": "7b37cbd5-2bc6-42f6-b084-6aa63fb3572e",
   "metadata": {},
   "outputs": [],
   "source": [
    "import pickle\n",
    "from Rubiks.agent import Agent\n",
    "from Rubiks.state import State\n",
    "from Rubiks.utils import move, num_solved_sides, num_pieces_correct_side, n_move_state\n"
   ]
  },
  {
   "cell_type": "code",
   "execution_count": 8,
   "id": "5356895d-13dc-41e3-badb-48c9c3f83764",
   "metadata": {},
   "outputs": [],
   "source": [
    "with open('pattern_database.pkl', 'rb') as f:\n",
    "    pattern_database = pickle.load(f)\n",
    "\n",
    "agent = Agent(QValues=pattern_database)"
   ]
  },
  {
   "cell_type": "code",
   "execution_count": 9,
   "id": "5750ec4e-7fa5-4a2f-9f1b-4b2ce7ef8bcd",
   "metadata": {},
   "outputs": [],
   "source": [
    "ALPHA = 0.1  \n",
    "GAMMA = 0.9 \n",
    "EPSILON = 0.2 "
   ]
  },
  {
   "cell_type": "code",
   "execution_count": 10,
   "id": "bdcecd7a-f479-4aa1-86a1-949fedcc61ff",
   "metadata": {},
   "outputs": [],
   "source": [
    "def q_learning_update(agent, state, action, reward, next_state):\n",
    "    state_action = (state.__hash__(), action)\n",
    "    next_max = max(agent.QV.get((next_state.__hash__(), a), 0) for a in agent.actions)\n",
    "    agent.QV[state_action] = agent.QV.get(state_action, 0) + ALPHA * (reward + GAMMA * next_max - agent.QV.get(state_action, 0))\n"
   ]
  },
  {
   "cell_type": "markdown",
   "id": "75e6995a-f9fb-4652-b263-5cd4c449cddf",
   "metadata": {},
   "source": [
    "the ε-greedy strategy to select actions, balancing exploration and exploitation."
   ]
  },
  {
   "cell_type": "code",
   "execution_count": 11,
   "id": "c913ffab-4811-4983-b591-9574c37ceb84",
   "metadata": {},
   "outputs": [],
   "source": [
    "import random\n",
    "\n",
    "def select_action(agent, state):\n",
    "    if random.uniform(0, 1) < EPSILON:\n",
    "        return random.choice(agent.actions)\n",
    "    else:\n",
    "        state_hash = state.__hash__()\n",
    "        q_values = {action: agent.QV.get((state_hash, action), 0) for action in agent.actions}\n",
    "        return max(q_values, key=q_values.get)"
   ]
  },
  {
   "cell_type": "code",
   "execution_count": null,
   "id": "9320c121-3477-4dec-bb52-5120cf7a2f46",
   "metadata": {},
   "outputs": [],
   "source": []
  },
  {
   "cell_type": "code",
   "execution_count": 12,
   "id": "f82a9028-5a05-4376-bd84-125d02b8d5d1",
   "metadata": {},
   "outputs": [
    {
     "data": {
      "text/plain": [
       "\"\\nFRONT[['Y', 'Y', 'W'], ['Y', 'W', 'W'], ['Y', 'Y', 'W']]\\nBACK[['Y', 'W', 'W'], ['Y', 'Y', 'W'], ['Y', 'W', 'W']]\\nLEFT[['G', 'G', 'B'], ['G', 'B', 'B'], ['G', 'G', 'B']]\\nRIGHT[['B', 'B', 'G'], ['B', 'G', 'G'], ['B', 'B', 'G']]\\nTOP[['R', 'R', 'R'], ['O', 'R', 'R'], ['O', 'O', 'O']]\\nBOTTOM[['O', 'O', 'O'], ['O', 'O', 'R'], ['R', 'R', 'R']]\""
      ]
     },
     "execution_count": 12,
     "metadata": {},
     "output_type": "execute_result"
    }
   ],
   "source": [
    "initial_state = n_move_state(n=6)\n",
    "initial_state.__str__()"
   ]
  },
  {
   "cell_type": "code",
   "execution_count": null,
   "id": "877c2924-cb96-4af3-823f-10c5168e89d1",
   "metadata": {},
   "outputs": [],
   "source": []
  }
 ],
 "metadata": {
  "kernelspec": {
   "display_name": "Python 3 (ipykernel)",
   "language": "python",
   "name": "python3"
  },
  "language_info": {
   "codemirror_mode": {
    "name": "ipython",
    "version": 3
   },
   "file_extension": ".py",
   "mimetype": "text/x-python",
   "name": "python",
   "nbconvert_exporter": "python",
   "pygments_lexer": "ipython3",
   "version": "3.11.7"
  }
 },
 "nbformat": 4,
 "nbformat_minor": 5
}
