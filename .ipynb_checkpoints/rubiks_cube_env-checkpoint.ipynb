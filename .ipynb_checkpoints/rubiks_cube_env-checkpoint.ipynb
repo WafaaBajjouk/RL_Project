{
 "cells": [
  {
   "cell_type": "code",
   "execution_count": 1,
   "id": "bd472b7f-34e1-4b3b-abab-405c6de02814",
   "metadata": {},
   "outputs": [],
   "source": [
    "import numpy as np"
   ]
  },
  {
   "cell_type": "code",
   "execution_count": 2,
   "id": "c055d744-a419-4d55-a3b0-d73a2af6d604",
   "metadata": {},
   "outputs": [],
   "source": [
    "class RubiksCube:\n",
    "    def __init__(self):\n",
    "        # Initialize a solved cube\n",
    "        self.state = self.get_solved_state()\n",
    "    \n",
    "    def get_solved_state(self):\n",
    "        # 6 faces, each with 9 stickers (54 total)\n",
    "        # Assuming a color coding of 0-5 for the six colors\n",
    "        return [i // 9 for i in range(54)]\n",
    "    \n",
    "    def apply_move(self, move):\n",
    "        # Move is a string, e.g., 'R', 'R2', 'R''\n",
    "        if move == 'R':\n",
    "            self.rotate_right_face(clockwise=True)\n",
    "        elif move == 'R2':\n",
    "            self.rotate_right_face(clockwise=True)\n",
    "            self.rotate_right_face(clockwise=True)\n",
    "        elif move == 'R\\'':\n",
    "            self.rotate_right_face(clockwise=False)\n",
    "        # Add similar conditions for other moves: L, L', L2, U, U', U2, D, D', D2, F, F', F2, B, B', B2\n",
    "    \n",
    "    def rotate_right_face(self, clockwise):\n",
    "        # This function should rotate the right face of the cube clockwise or counter-clockwise\n",
    "        # Clockwise rotation means 90 degrees to the right\n",
    "        # Counter-clockwise rotation means 90 degrees to the left\n",
    "        \n",
    "        # We need to update both the face and the adjacent edges\n",
    "        # The indices in self.state that need to be updated can be calculated or defined\n",
    "        \n",
    "        # For illustration, assuming 54-element list representation:\n",
    "        # - Right face: indices 2, 5, 8, 11, 14, 17, 20, 23, 26\n",
    "        # - Adjacent stickers: top-right, front-right, bottom-right, back-right\n",
    "        if clockwise:\n",
    "            # Rotate right face stickers (using list slicing)\n",
    "            # Save the current stickers\n",
    "            top = self.state[2], self.state[5], self.state[8]\n",
    "            right = self.state[11], self.state[14], self.state[17]\n",
    "            bottom = self.state[26], self.state[23], self.state[20]\n",
    "            left = self.state[47], self.state[50], self.state[53]\n",
    "            \n",
    "            # Assign new positions\n",
    "            self.state[2], self.state[5], self.state[8] = left[::-1]\n",
    "            self.state[47], self.state[50], self.state[53] = bottom[::-1]\n",
    "            self.state[26], self.state[23], self.state[20] = right\n",
    "            self.state[11], self.state[14], self.state[17] = top\n",
    "            \n",
    "            # Rotate the face itself\n",
    "            face = [self.state[i] for i in [9, 10, 11, 18, 19, 20, 27, 28, 29]]\n",
    "            self.state[9], self.state[10], self.state[11] = face[6], face[3], face[0]\n",
    "            self.state[18], self.state[19], self.state[20] = face[7], face[4], face[1]\n",
    "            self.state[27], self.state[28], self.state[29] = face[8], face[5], face[2]\n",
    "        else:\n",
    "            # Implement counter-clockwise rotation in a similar manner\n",
    "            pass\n",
    "    \n",
    "    def is_solved(self):\n",
    "        # Check if each face is a single color (i.e., the cube is solved)\n",
    "        return all(self.state[i*9:(i+1)*9] == [self.state[i*9]] * 9 for i in range(6))\n"
   ]
  },
  {
   "cell_type": "code",
   "execution_count": null,
   "id": "6a5da570-61b9-49c8-897c-822203a21a22",
   "metadata": {},
   "outputs": [],
   "source": []
  }
 ],
 "metadata": {
  "kernelspec": {
   "display_name": "Python 3 (ipykernel)",
   "language": "python",
   "name": "python3"
  },
  "language_info": {
   "codemirror_mode": {
    "name": "ipython",
    "version": 3
   },
   "file_extension": ".py",
   "mimetype": "text/x-python",
   "name": "python",
   "nbconvert_exporter": "python",
   "pygments_lexer": "ipython3",
   "version": "3.11.7"
  }
 },
 "nbformat": 4,
 "nbformat_minor": 5
}
